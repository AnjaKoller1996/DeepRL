{
  "nbformat": 4,
  "nbformat_minor": 0,
  "metadata": {
    "colab": {
      "name": "ABM_Exercise1.ipynb",
      "provenance": [],
      "collapsed_sections": [],
      "toc_visible": true,
      "include_colab_link": true
    },
    "kernelspec": {
      "name": "python3",
      "display_name": "Python 3"
    }
  },
  "cells": [
    {
      "cell_type": "markdown",
      "metadata": {
        "id": "view-in-github",
        "colab_type": "text"
      },
      "source": [
        "<a href=\"https://colab.research.google.com/github/AnjaKoller1996/DeepRL/blob/master/ABM_Exercise1.ipynb\" target=\"_parent\"><img src=\"https://colab.research.google.com/assets/colab-badge.svg\" alt=\"Open In Colab\"/></a>"
      ]
    },
    {
      "cell_type": "code",
      "metadata": {
        "id": "OapoKIqaKGAh"
      },
      "source": [
        "#this is our imports and stuff\r\n",
        "import numpy as np\r\n",
        "import pandas as pd\r\n",
        "import matplotlib.pyplot as plt"
      ],
      "execution_count": null,
      "outputs": []
    },
    {
      "cell_type": "markdown",
      "metadata": {
        "id": "XnCac-HlYulo"
      },
      "source": [
        "# Exercise 1: Gini Index"
      ]
    },
    {
      "cell_type": "markdown",
      "metadata": {
        "id": "nRd1NhCHaGEJ"
      },
      "source": [
        ""
      ]
    },
    {
      "cell_type": "markdown",
      "metadata": {
        "id": "Xe5bFIf-aIcZ"
      },
      "source": [
        "**N**: number of agents, uniquely defined by wealth. Each agent i has wealth w_i\n",
        "\n",
        "**Gini index**: measure for inequality G_w = (sum for i,j to N |w_i-w_j|)/2N* sum w_i\n",
        "**G=0** means egalitarian distribution and **G=1** means completely unequal distribution\n"
      ]
    },
    {
      "cell_type": "code",
      "metadata": {
        "id": "5A-7eZ4la_WT"
      },
      "source": [
        "def calculate_gini_index(wealths):\r\n",
        "  return sum([abs(w1-w2) for w1 in wealths for w2 in wealths]) / (2 * len(wealths) * sum(wealths))"
      ],
      "execution_count": null,
      "outputs": []
    },
    {
      "cell_type": "markdown",
      "metadata": {
        "id": "YlQzNeTKcSXI"
      },
      "source": [
        "Basic Experiments on Gini Index:\r\n",
        "First we see that when all wealths are equally distributed (i.e. w_i = 1 for all i) the Gini-index is zero as wealth is distributed equally. When we have a complete unequal distribution, i.e. that only one has all the wealth and the rest has nothing the Gini-index is 1 as the wealth is distributed completely unequal. The more unequal the distribution is the nearer the Gini-index is to 1. I.e. if only a few people have all the wealth the Gini-index is close to one and if all people have nearly the same wealth the Gini-index is close to 0."
      ]
    },
    {
      "cell_type": "code",
      "metadata": {
        "colab": {
          "base_uri": "https://localhost:8080/"
        },
        "id": "Ajn5BXthbQJJ",
        "outputId": "5b888c6f-e0e6-4866-f8a7-c4839ac949a8"
      },
      "source": [
        "x = np.ones(1000) #gini index should be 0\r\n",
        "calculate_gini_index(x)"
      ],
      "execution_count": null,
      "outputs": [
        {
          "output_type": "execute_result",
          "data": {
            "text/plain": [
              "0.0"
            ]
          },
          "metadata": {
            "tags": []
          },
          "execution_count": 9
        }
      ]
    },
    {
      "cell_type": "code",
      "metadata": {
        "colab": {
          "base_uri": "https://localhost:8080/"
        },
        "id": "W1W-qKbEbNGy",
        "outputId": "eb4d8c85-11db-4a32-f573-ef90f2f9de66"
      },
      "source": [
        "x = np.random.rand(1000)*10000 #should be deviation, so gini index is not 0\r\n",
        "calculate_gini_index(x)"
      ],
      "execution_count": null,
      "outputs": [
        {
          "output_type": "execute_result",
          "data": {
            "text/plain": [
              "0.341624327594142"
            ]
          },
          "metadata": {
            "tags": []
          },
          "execution_count": 10
        }
      ]
    },
    {
      "cell_type": "code",
      "metadata": {
        "colab": {
          "base_uri": "https://localhost:8080/"
        },
        "id": "qsPxdV3-bdaN",
        "outputId": "c7f0acd8-58fd-4259-cbc6-1a0ae68e00c4"
      },
      "source": [
        "x = np.concatenate((np.zeros(1000), np.ones(1000)))\r\n",
        "calculate_gini_index(x) #gini index should be 0.5"
      ],
      "execution_count": null,
      "outputs": [
        {
          "output_type": "execute_result",
          "data": {
            "text/plain": [
              "0.5"
            ]
          },
          "metadata": {
            "tags": []
          },
          "execution_count": 11
        }
      ]
    },
    {
      "cell_type": "code",
      "metadata": {
        "colab": {
          "base_uri": "https://localhost:8080/"
        },
        "id": "8sokV1qLb8AJ",
        "outputId": "973ee309-7858-4c4d-f559-587a59e28755"
      },
      "source": [
        "x = np.concatenate((np.zeros(1000), np.ones(5000)))\r\n",
        "calculate_gini_index(x) #gini index should be not 0, inbalanced weights"
      ],
      "execution_count": null,
      "outputs": [
        {
          "output_type": "execute_result",
          "data": {
            "text/plain": [
              "0.16666666666666666"
            ]
          },
          "metadata": {
            "tags": []
          },
          "execution_count": 12
        }
      ]
    },
    {
      "cell_type": "markdown",
      "metadata": {
        "id": "8nVThK-2yoGh"
      },
      "source": [
        "# Exercise 2: Agents Simulation"
      ]
    },
    {
      "cell_type": "markdown",
      "metadata": {
        "id": "gfxLFOzbzaLg"
      },
      "source": [
        "Establish actions and add to a list"
      ]
    },
    {
      "cell_type": "code",
      "metadata": {
        "id": "eUhHeqCBz5go"
      },
      "source": [
        "alpha = 0.1 # to control mico-level properties"
      ],
      "execution_count": null,
      "outputs": []
    },
    {
      "cell_type": "code",
      "metadata": {
        "id": "FkolLbm_yQct"
      },
      "source": [
        "def random_add(x, y):\r\n",
        "  if (np.random.rand(1) * 50 % 2) == 0:\r\n",
        "    return x-1, y+1\r\n",
        "  else:\r\n",
        "    return x+1, y-1"
      ],
      "execution_count": null,
      "outputs": []
    },
    {
      "cell_type": "code",
      "metadata": {
        "id": "YFySPrbV2Ho9"
      },
      "source": [
        "def greedy_add(x, y):\r\n",
        "  if x >= y:\r\n",
        "    return x+1, y-1\r\n",
        "  else:\r\n",
        "    return x-1, y+1"
      ],
      "execution_count": null,
      "outputs": []
    },
    {
      "cell_type": "code",
      "metadata": {
        "id": "tsaEsS0AyjJZ"
      },
      "source": [
        "def random_mull_add(x, y):\r\n",
        "  if (np.random.rand(1) * 50 % 2) == 0:\r\n",
        "    return  x-(x*alpha), y+(alpha*x)\r\n",
        "  else:\r\n",
        "    return x+(y*alpha), y-(alpha*y)"
      ],
      "execution_count": null,
      "outputs": []
    },
    {
      "cell_type": "code",
      "metadata": {
        "id": "qTGkhupT1Bk8"
      },
      "source": [
        "def greedy_mull_add(x, y):\r\n",
        "  if x >= y:\r\n",
        "    return x+(y*alpha), y-(alpha*y)\r\n",
        "  else:\r\n",
        "    return x-(x*alpha), y+(alpha*x)"
      ],
      "execution_count": null,
      "outputs": []
    },
    {
      "cell_type": "code",
      "metadata": {
        "id": "iAH2D4uszQ5h"
      },
      "source": [
        "actions = [random_add, greedy_add, random_mull_add, greedy_mull_add]"
      ],
      "execution_count": null,
      "outputs": []
    },
    {
      "cell_type": "markdown",
      "metadata": {
        "id": "Q_7x19oLlyS9"
      },
      "source": [
        "# Description and Explanation:\n",
        "We check that if the wealth of an agent is equal to 0 nothing happens, in order to not have negative wealth. If we wouldn't check this the wealth of one agent would get negative. \n",
        "**Convergence**: when and under what circumstances does the wealth inequality (i.e. the Gini-index) not change remarkably anymore, i.e. we reach the stationary state of wealth inequality?\n",
        "\n",
        "**General Observation**: All start with equal wealth and thus gini index of 0. Then they get more and more inequal over time. All the algorithms bring more inequality. They differ in terms of speed of convergence and in fluctuation. \n",
        "\n",
        "**Observation Random Add:** TODO \n",
        "\n",
        "**Observation Greedy Add**: TODO\n",
        "\n",
        "**Observation Random Mul Add**: TODO\n",
        "\n",
        "**Observation Greedy Mul Add**: TODO\n",
        "\n",
        "We check with N= 200, N = 10000 and with convergence"
      ]
    },
    {
      "cell_type": "code",
      "metadata": {
        "id": "Q93QtOBGJ_gl"
      },
      "source": [
        "def run_simulation_with_action(N, early_stop_patience, max_time_steps, action):\r\n",
        "    wealths = np.ones(N) # initialised with 1\r\n",
        "    highest_gini_index = -1\r\n",
        "    early_stop_steps = 0\r\n",
        "    current_gini = []\r\n",
        "    current_gini.append(calculate_gini_index(wealths))\r\n",
        "    for step in range(max_time_steps):\r\n",
        "        for exchange in range(N):\r\n",
        "            x_pos , y_pos = np.random.rand(2) * N\r\n",
        "            x_pos = int(x_pos)\r\n",
        "            y_pos = int(y_pos)\r\n",
        "            if wealths[x_pos] != 0 and wealths[y_pos]!=0:\r\n",
        "              wealths[int(x_pos)], wealths[int(y_pos)] = action(wealths[x_pos], wealths[y_pos])\r\n",
        "        current_gini.append(calculate_gini_index(wealths))\r\n",
        "        if current_gini[-1] > highest_gini_index:\r\n",
        "            highest_gini_index = current_gini[-1]\r\n",
        "            early_stop_steps = 0\r\n",
        "        else:\r\n",
        "            early_stop_steps += 1\r\n",
        "            if early_stop_steps == early_stop_patience:\r\n",
        "                current_gini = current_gini[:-early_stop_patience]\r\n",
        "                break\r\n",
        "    return current_gini"
      ],
      "execution_count": null,
      "outputs": []
    },
    {
      "cell_type": "code",
      "metadata": {
        "id": "wF3Vb_Sh02KB"
      },
      "source": [
        "N = 200\r\n",
        "early_stop_patience = 5\r\n",
        "gini_indices_200 = []\r\n",
        "max_time_steps = 10000\r\n",
        "for action in actions:\r\n",
        "    gini_indices_200.append(run_simulation_with_action(N, early_stop_patience, max_time_steps, action))\r\n",
        "    print(\"Action Done\")"
      ],
      "execution_count": null,
      "outputs": []
    },
    {
      "cell_type": "code",
      "metadata": {
        "colab": {
          "base_uri": "https://localhost:8080/"
        },
        "id": "SeMzBjSc7zN_",
        "outputId": "a57a9a2d-6d2b-47ab-e56d-3646c302874d"
      },
      "source": [
        "gini_indices_200[0][-15:]"
      ],
      "execution_count": null,
      "outputs": [
        {
          "output_type": "execute_result",
          "data": {
            "text/plain": [
              "[0.812766497461929,\n",
              " 0.8169796954314721,\n",
              " 0.8149489795918368,\n",
              " 0.8244387755102041,\n",
              " 0.8288974358974359,\n",
              " 0.8339175257731959,\n",
              " 0.843659793814433,\n",
              " 0.8446907216494846,\n",
              " 0.8466580310880829,\n",
              " 0.8495077720207254,\n",
              " 0.8560362694300518,\n",
              " 0.8582642487046632,\n",
              " 0.8604922279792746,\n",
              " 0.8605440414507772,\n",
              " 0.8617875647668394]"
            ]
          },
          "metadata": {
            "tags": []
          },
          "execution_count": 22
        }
      ]
    },
    {
      "cell_type": "code",
      "metadata": {
        "colab": {
          "base_uri": "https://localhost:8080/"
        },
        "id": "3qhxjSW_DzBn",
        "outputId": "3e11d790-a05c-4dcc-bf75-8bded3b031f7"
      },
      "source": [
        "gini_indices_200[1][-15:]"
      ],
      "execution_count": null,
      "outputs": [
        {
          "output_type": "execute_result",
          "data": {
            "text/plain": [
              "[0.9563541666666666,\n",
              " 0.9563541666666666,\n",
              " 0.9563541666666666,\n",
              " 0.9563541666666666,\n",
              " 0.9567708333333333,\n",
              " 0.9567708333333333,\n",
              " 0.95703125,\n",
              " 0.95703125,\n",
              " 0.9571875,\n",
              " 0.9571465968586388,\n",
              " 0.9576842105263158,\n",
              " 0.9576842105263158,\n",
              " 0.9578421052631579,\n",
              " 0.9578421052631579,\n",
              " 0.9581578947368421]"
            ]
          },
          "metadata": {
            "tags": []
          },
          "execution_count": 23
        }
      ]
    },
    {
      "cell_type": "code",
      "metadata": {
        "colab": {
          "base_uri": "https://localhost:8080/"
        },
        "id": "dNeKGTHfD2mS",
        "outputId": "d4f5c7cf-a386-4572-8f9e-cc8338924f49"
      },
      "source": [
        "gini_indices_200[2][-15:]"
      ],
      "execution_count": null,
      "outputs": [
        {
          "output_type": "execute_result",
          "data": {
            "text/plain": [
              "[0.0,\n",
              " 0.07697332585435915,\n",
              " 0.10241559319394132,\n",
              " 0.11571691345131574,\n",
              " 0.13127239589906653,\n",
              " 0.1463086469844626,\n",
              " 0.1455708917009778,\n",
              " 0.15791423506784255,\n",
              " 0.16619473987327116,\n",
              " 0.1733647559706786,\n",
              " 0.17649185575036963,\n",
              " 0.17759397638091812]"
            ]
          },
          "metadata": {
            "tags": []
          },
          "execution_count": 24
        }
      ]
    },
    {
      "cell_type": "code",
      "metadata": {
        "colab": {
          "base_uri": "https://localhost:8080/"
        },
        "id": "958yV5I-EJOE",
        "outputId": "e63ff3fd-10a5-4987-cc54-be20e11b0a25"
      },
      "source": [
        "gini_indices_200[3][-15:]"
      ],
      "execution_count": null,
      "outputs": [
        {
          "output_type": "execute_result",
          "data": {
            "text/plain": [
              "[0.9818441489529532,\n",
              " 0.9822962666872332,\n",
              " 0.9823283524002656,\n",
              " 0.9823293325601714,\n",
              " 0.9823299202668061,\n",
              " 0.982481689228089,\n",
              " 0.9824816917091449,\n",
              " 0.9827332944227244,\n",
              " 0.9827369242524826,\n",
              " 0.9827456922137514,\n",
              " 0.9829230908803588,\n",
              " 0.9830549313379376,\n",
              " 0.9830555536128905,\n",
              " 0.9830721141619402,\n",
              " 0.9830743929204381]"
            ]
          },
          "metadata": {
            "tags": []
          },
          "execution_count": 25
        }
      ]
    },
    {
      "cell_type": "markdown",
      "metadata": {
        "id": "Xf70EBkpPg47"
      },
      "source": [
        "Plot the Gini indices\r\n"
      ]
    },
    {
      "cell_type": "code",
      "metadata": {
        "colab": {
          "base_uri": "https://localhost:8080/",
          "height": 283
        },
        "id": "bhvRFi3BPlCW",
        "outputId": "2bef169f-22d5-435a-cf4b-7e870fd35bba"
      },
      "source": [
        "plt.plot(gini_indices_200[0])"
      ],
      "execution_count": null,
      "outputs": [
        {
          "output_type": "execute_result",
          "data": {
            "text/plain": [
              "[<matplotlib.lines.Line2D at 0x7f925191e5d0>]"
            ]
          },
          "metadata": {
            "tags": []
          },
          "execution_count": 26
        },
        {
          "output_type": "display_data",
          "data": {
            "image/png": "[encoded data removed]",
            "text/plain": [
              "<Figure size 432x288 with 1 Axes>"
            ]
          },
          "metadata": {
            "tags": [],
            "needs_background": "light"
          }
        }
      ]
    },
    {
      "cell_type": "code",
      "metadata": {
        "colab": {
          "base_uri": "https://localhost:8080/",
          "height": 286
        },
        "id": "b-nNMgF3Pzoc",
        "outputId": "ffe8b6c1-7be3-467e-98a3-77b1d684c75b"
      },
      "source": [
        "plt.plot(gini_indices_200[1])"
      ],
      "execution_count": null,
      "outputs": [
        {
          "output_type": "execute_result",
          "data": {
            "text/plain": [
              "[<matplotlib.lines.Line2D at 0x7f92513ba750>]"
            ]
          },
          "metadata": {
            "tags": []
          },
          "execution_count": 27
        },
        {
          "output_type": "display_data",
          "data": {
            "image/png": "[encoded data removed]",
            "text/plain": [
              "<Figure size 432x288 with 1 Axes>"
            ]
          },
          "metadata": {
            "tags": [],
            "needs_background": "light"
          }
        }
      ]
    },
    {
      "cell_type": "code",
      "metadata": {
        "colab": {
          "base_uri": "https://localhost:8080/",
          "height": 283
        },
        "id": "x4VTlOGVP1Bi",
        "outputId": "0b39c1f6-d2d8-4b1a-c62d-ce0420c685d7"
      },
      "source": [
        "plt.plot(gini_indices_200[2])"
      ],
      "execution_count": null,
      "outputs": [
        {
          "output_type": "execute_result",
          "data": {
            "text/plain": [
              "[<matplotlib.lines.Line2D at 0x7f9251363750>]"
            ]
          },
          "metadata": {
            "tags": []
          },
          "execution_count": 28
        },
        {
          "output_type": "display_data",
          "data": {
            "image/png": "[encoded data removed]",
            "text/plain": [
              "<Figure size 432x288 with 1 Axes>"
            ]
          },
          "metadata": {
            "tags": [],
            "needs_background": "light"
          }
        }
      ]
    },
    {
      "cell_type": "code",
      "metadata": {
        "id": "Jd9uR-XAP1yQ"
      },
      "source": [
        "plt.plot(gini_indices_200[3])"
      ],
      "execution_count": null,
      "outputs": []
    },
    {
      "cell_type": "markdown",
      "metadata": {
        "id": "O-7jvhdEomLF"
      },
      "source": [
        "**Convergence**: In the following we find out the stationary wealth inequality, therefore we look when we reach convergence. "
      ]
    },
    {
      "cell_type": "code",
      "metadata": {
        "id": "GvVZ9QwP8nrN"
      },
      "source": [
        "N = 10000\r\n",
        "early_stop_patience = 5\r\n",
        "gini_indices_10000 = []\r\n",
        "max_time_steps = 10000\r\n",
        "for action in actions:\r\n",
        "    gini_indices_10000.append(run_simulation_with_action(N, early_stop_patience, max_time_steps, action))\r\n",
        "    print(\"Action Done\")"
      ],
      "execution_count": null,
      "outputs": []
    },
    {
      "cell_type": "code",
      "metadata": {
        "id": "W36tRlDkMcYe"
      },
      "source": [
        "gini_indices_10000[0][-15:]"
      ],
      "execution_count": null,
      "outputs": []
    },
    {
      "cell_type": "code",
      "metadata": {
        "id": "NTBHG7a4McYe"
      },
      "source": [
        "gini_indices_10000[1][-15:]"
      ],
      "execution_count": null,
      "outputs": []
    },
    {
      "cell_type": "code",
      "metadata": {
        "id": "cHLKs74AMcYf"
      },
      "source": [
        "gini_indices_10000[2][-15:]"
      ],
      "execution_count": null,
      "outputs": []
    },
    {
      "cell_type": "code",
      "metadata": {
        "id": "5JtGsAgyMcYf"
      },
      "source": [
        "gini_indices_10000[3][-15:]"
      ],
      "execution_count": null,
      "outputs": []
    },
    {
      "cell_type": "markdown",
      "metadata": {
        "id": "9e_q1bebMmHM"
      },
      "source": [
        "Plot the Gini indices\r\n"
      ]
    },
    {
      "cell_type": "code",
      "metadata": {
        "id": "7X8MFqmSMmHM"
      },
      "source": [
        "plt.plot(gini_indices_10000[0])"
      ],
      "execution_count": null,
      "outputs": []
    },
    {
      "cell_type": "code",
      "metadata": {
        "id": "6BAEwgYZMmHN"
      },
      "source": [
        "plt.plot(gini_indices_10000[1])"
      ],
      "execution_count": null,
      "outputs": []
    },
    {
      "cell_type": "code",
      "metadata": {
        "id": "p3scFGq-MmHN"
      },
      "source": [
        "plt.plot(gini_indices_10000[2])"
      ],
      "execution_count": null,
      "outputs": []
    },
    {
      "cell_type": "code",
      "metadata": {
        "id": "-wPnGN7fMmHN"
      },
      "source": [
        "plt.plot(gini_indices_10000[3])"
      ],
      "execution_count": null,
      "outputs": []
    },
    {
      "cell_type": "code",
      "metadata": {
        "id": "lUuY0ZhNPEfT"
      },
      "source": [
        ""
      ],
      "execution_count": null,
      "outputs": []
    }
  ]
}